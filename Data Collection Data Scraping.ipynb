{
 "cells": [
  {
   "cell_type": "code",
   "execution_count": null,
   "id": "90f237ed",
   "metadata": {},
   "outputs": [],
   "source": [
    "from bs4 import BeautifulSoup\n",
    "import requests\n",
    "\n",
    "proxies = {\n",
    "  \"https\": \"scraperapi.country_code=us.device_type=desktop.session_number=123.autoparse=true.output_format=json:ENTER _YOUR_PROXY_CODE\"\n",
    "}\n",
    "\n",
    "\n"
   ]
  },
  {
   "cell_type": "code",
   "execution_count": null,
   "id": "7d9717d7",
   "metadata": {},
   "outputs": [],
   "source": [
    "new_urls = [\n",
    "    Lists of links\n",
    "]"
   ]
  },
  {
   "cell_type": "code",
   "execution_count": null,
   "id": "cbdb8f88",
   "metadata": {},
   "outputs": [],
   "source": [
    "from random import randint\n",
    "from time import sleep\n",
    "\n",
    "customer_reviews = []\n",
    "\n",
    "for link in new_urls:\n",
    "    headers = {'User-Agent': \"Mozilla/5.0 (Windows NT 10.0; WOW64) AppleWebKit/537.36 (KHTML, like Gecko) Chrome/83.0.4103.97 Safari/537.36\"}\n",
    "    html2 = requests.get(link,  headers=headers, proxies=proxies, verify=False)\n",
    "    sleep(randint(1, 5))\n",
    "    bsobj2 = BeautifulSoup(html2.text, 'html.parser')\n",
    "    for element in bsobj2.find_all(recursive=False):  # Filter out the doctype\n",
    "        for div in element.find_all('div', class_=\"fIrGe _T\"):\n",
    "            customer_reviews.append(div)\n",
    "            print(div)\n",
    "\n",
    "print(customer_reviews)"
   ]
  },
  {
   "cell_type": "code",
   "execution_count": null,
   "id": "ae0ffb09",
   "metadata": {},
   "outputs": [],
   "source": [
    "import pandas as pd\n",
    "\n",
    "# Assuming customer_reviews contains the extracted customer reviews\n",
    "\n",
    "# Create a DataFrame with the customer reviews\n",
    "df = pd.DataFrame({\"Customer Reviews\": customer_reviews})\n",
    "\n",
    "# Specify the file path where you want to save the Excel file\n",
    "file_path = \"pc_path/customer_reviews1.excel\"\n",
    "\n",
    "# Save the DataFrame to an Excel file\n",
    "df.to_excel(file_path, index=False)\n",
    "\n",
    "print(\"Excel file saved successfully.\")\n"
   ]
  }
 ],
 "metadata": {
  "kernelspec": {
   "display_name": "Python 3 (ipykernel)",
   "language": "python",
   "name": "python3"
  },
  "language_info": {
   "codemirror_mode": {
    "name": "ipython",
    "version": 3
   },
   "file_extension": ".py",
   "mimetype": "text/x-python",
   "name": "python",
   "nbconvert_exporter": "python",
   "pygments_lexer": "ipython3",
   "version": "3.11.5"
  }
 },
 "nbformat": 4,
 "nbformat_minor": 5
}
